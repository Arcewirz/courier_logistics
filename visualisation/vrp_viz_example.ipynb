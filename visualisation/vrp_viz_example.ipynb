{
 "cells": [
  {
   "cell_type": "code",
   "execution_count": null,
   "metadata": {},
   "outputs": [],
   "source": [
    "from vrp_viz import VRPPlot"
   ]
  },
  {
   "attachments": {},
   "cell_type": "markdown",
   "metadata": {},
   "source": [
    "Jeżeli macie wersję pythona `3.10` lub nowszą to bardzo możliwe że wyskakuje wam error `Cannot import Mapping from Collections`. Najprawdopodbniej nie da rady na nim odpalić `folium` które używamy do wizualizacji. Jak nie macie instalek pythona `3.9` lub starszego to napiszcie do mnie."
   ]
  },
  {
   "cell_type": "code",
   "execution_count": null,
   "metadata": {},
   "outputs": [],
   "source": []
  }
 ],
 "metadata": {
  "kernelspec": {
   "display_name": "Python 3",
   "language": "python",
   "name": "python3"
  },
  "language_info": {
   "name": "python",
   "version": "3.9.6"
  },
  "orig_nbformat": 4
 },
 "nbformat": 4,
 "nbformat_minor": 2
}
