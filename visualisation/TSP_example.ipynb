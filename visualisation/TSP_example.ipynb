{
 "cells": [
  {
   "cell_type": "code",
   "execution_count": 2,
   "metadata": {
    "collapsed": true
   },
   "outputs": [],
   "source": [
    "from vrp_viz import VRPPlot\n",
    "from ortools.constraint_solver import routing_enums_pb2, pywrapcp\n",
    "from geopy.geocoders import Nominatim\n",
    "from geopy.distance import geodesic\n",
    "import pandas as pd\n",
    "import time"
   ]
  },
  {
   "cell_type": "markdown",
   "source": [
    "# Folium"
   ],
   "metadata": {
    "collapsed": false
   }
  },
  {
   "cell_type": "code",
   "execution_count": 15,
   "outputs": [],
   "source": [
    "coords = [(48.20817, 16.37382),\n",
    "          (46.987536362460084, 7.427499610340133),\n",
    "          (41.86933058455828, 12.662484881620202),\n",
    "          (50.07589292509622, 14.435404050834023),\n",
    "          (52.509346514796945, 5.323617705412682),\n",
    "          (40.727924387874644, -3.781408384468865),\n",
    "          (43.01009091777951, 23.23397235157129),\n",
    "          (48.20817, 16.37382)]\n",
    "trails = [[0, 1, 2, 0],\n",
    "          [0, 3, 4, 0],\n",
    "          [0, 5, 6, 0]]"
   ],
   "metadata": {
    "collapsed": false
   }
  },
  {
   "cell_type": "code",
   "execution_count": 17,
   "outputs": [
    {
     "data": {
      "text/plain": "<folium.folium.Map at 0x216854aa770>",
      "text/html": "<div style=\"width:100%;\"><div style=\"position:relative;width:100%;height:0;padding-bottom:60%;\"><span style=\"color:#565656\">Make this Notebook Trusted to load map: File -> Trust Notebook</span><iframe srcdoc=\"&lt;!DOCTYPE html&gt;\n&lt;html&gt;\n&lt;head&gt;\n    \n    &lt;meta http-equiv=&quot;content-type&quot; content=&quot;text/html; charset=UTF-8&quot; /&gt;\n    \n        &lt;script&gt;\n            L_NO_TOUCH = false;\n            L_DISABLE_3D = false;\n        &lt;/script&gt;\n    \n    &lt;style&gt;html, body {width: 100%;height: 100%;margin: 0;padding: 0;}&lt;/style&gt;\n    &lt;style&gt;#map {position:absolute;top:0;bottom:0;right:0;left:0;}&lt;/style&gt;\n    &lt;script src=&quot;https://cdn.jsdelivr.net/npm/leaflet@1.9.3/dist/leaflet.js&quot;&gt;&lt;/script&gt;\n    &lt;script src=&quot;https://code.jquery.com/jquery-1.12.4.min.js&quot;&gt;&lt;/script&gt;\n    &lt;script src=&quot;https://cdn.jsdelivr.net/npm/bootstrap@5.2.2/dist/js/bootstrap.bundle.min.js&quot;&gt;&lt;/script&gt;\n    &lt;script src=&quot;https://cdnjs.cloudflare.com/ajax/libs/Leaflet.awesome-markers/2.0.2/leaflet.awesome-markers.js&quot;&gt;&lt;/script&gt;\n    &lt;link rel=&quot;stylesheet&quot; href=&quot;https://cdn.jsdelivr.net/npm/leaflet@1.9.3/dist/leaflet.css&quot;/&gt;\n    &lt;link rel=&quot;stylesheet&quot; href=&quot;https://cdn.jsdelivr.net/npm/bootstrap@5.2.2/dist/css/bootstrap.min.css&quot;/&gt;\n    &lt;link rel=&quot;stylesheet&quot; href=&quot;https://netdna.bootstrapcdn.com/bootstrap/3.0.0/css/bootstrap.min.css&quot;/&gt;\n    &lt;link rel=&quot;stylesheet&quot; href=&quot;https://cdn.jsdelivr.net/npm/@fortawesome/fontawesome-free@6.2.0/css/all.min.css&quot;/&gt;\n    &lt;link rel=&quot;stylesheet&quot; href=&quot;https://cdnjs.cloudflare.com/ajax/libs/Leaflet.awesome-markers/2.0.2/leaflet.awesome-markers.css&quot;/&gt;\n    &lt;link rel=&quot;stylesheet&quot; href=&quot;https://cdn.jsdelivr.net/gh/python-visualization/folium/folium/templates/leaflet.awesome.rotate.min.css&quot;/&gt;\n    \n            &lt;meta name=&quot;viewport&quot; content=&quot;width=device-width,\n                initial-scale=1.0, maximum-scale=1.0, user-scalable=no&quot; /&gt;\n            &lt;style&gt;\n                #map_33b438282c15a201aae875c19fda36d7 {\n                    position: relative;\n                    width: 100.0%;\n                    height: 100.0%;\n                    left: 0.0%;\n                    top: 0.0%;\n                }\n                .leaflet-container { font-size: 1rem; }\n            &lt;/style&gt;\n        \n&lt;/head&gt;\n&lt;body&gt;\n    \n    \n            &lt;div class=&quot;folium-map&quot; id=&quot;map_33b438282c15a201aae875c19fda36d7&quot; &gt;&lt;/div&gt;\n        \n&lt;/body&gt;\n&lt;script&gt;\n    \n    \n            var map_33b438282c15a201aae875c19fda36d7 = L.map(\n                &quot;map_33b438282c15a201aae875c19fda36d7&quot;,\n                {\n                    center: [46.449557711570705, 11.50615127691368],\n                    crs: L.CRS.EPSG3857,\n                    zoom: 10,\n                    zoomControl: true,\n                    preferCanvas: false,\n                }\n            );\n\n            \n\n        \n    \n            var tile_layer_5b0f8fd2cc34db8ebe6fbb4f6925a4ab = L.tileLayer(\n                &quot;https://stamen-tiles-{s}.a.ssl.fastly.net/terrain/{z}/{x}/{y}.jpg&quot;,\n                {&quot;attribution&quot;: &quot;Map tiles by \\u003ca target=\\&quot;_blank\\&quot; href=\\&quot;http://stamen.com\\&quot;\\u003eStamen Design\\u003c/a\\u003e, under \\u003ca target=\\&quot;_blank\\&quot; href=\\&quot;http://creativecommons.org/licenses/by/3.0\\&quot;\\u003eCC BY 3.0\\u003c/a\\u003e. Data by \\u0026copy; \\u003ca target=\\&quot;_blank\\&quot; href=\\&quot;http://openstreetmap.org\\&quot;\\u003eOpenStreetMap\\u003c/a\\u003e, under \\u003ca target=\\&quot;_blank\\&quot; href=\\&quot;http://creativecommons.org/licenses/by-sa/3.0\\&quot;\\u003eCC BY SA\\u003c/a\\u003e.&quot;, &quot;detectRetina&quot;: false, &quot;maxNativeZoom&quot;: 18, &quot;maxZoom&quot;: 18, &quot;minZoom&quot;: 0, &quot;noWrap&quot;: false, &quot;opacity&quot;: 1, &quot;subdomains&quot;: &quot;abc&quot;, &quot;tms&quot;: false}\n            ).addTo(map_33b438282c15a201aae875c19fda36d7);\n        \n    \n            var marker_3d4dd68ba5bc4efd9733a87ec0cbd84d = L.marker(\n                [48.20817, 16.37382],\n                {}\n            ).addTo(map_33b438282c15a201aae875c19fda36d7);\n        \n    \n            var icon_b8ec9084f9b374ab0e084fd82b4a2579 = L.AwesomeMarkers.icon(\n                {&quot;extraClasses&quot;: &quot;fa-rotate-0&quot;, &quot;icon&quot;: &quot;play&quot;, &quot;iconColor&quot;: &quot;white&quot;, &quot;markerColor&quot;: &quot;green&quot;, &quot;prefix&quot;: &quot;glyphicon&quot;}\n            );\n            marker_3d4dd68ba5bc4efd9733a87ec0cbd84d.setIcon(icon_b8ec9084f9b374ab0e084fd82b4a2579);\n        \n    \n            var marker_e9f2a4510d788f962d2afdc18472715e = L.marker(\n                [46.987536362460084, 7.427499610340133],\n                {}\n            ).addTo(map_33b438282c15a201aae875c19fda36d7);\n        \n    \n            var marker_6da20bed520701c8f41aaf00743c3527 = L.marker(\n                [41.86933058455828, 12.662484881620202],\n                {}\n            ).addTo(map_33b438282c15a201aae875c19fda36d7);\n        \n    \n            var marker_483541b3f89c254a1bd41f4b74ff9bea = L.marker(\n                [50.07589292509622, 14.435404050834023],\n                {}\n            ).addTo(map_33b438282c15a201aae875c19fda36d7);\n        \n    \n            var marker_b56f9b08bc945d9a84bad4c5507e806e = L.marker(\n                [52.509346514796945, 5.323617705412682],\n                {}\n            ).addTo(map_33b438282c15a201aae875c19fda36d7);\n        \n    \n            var marker_3754d566afb79a21af6c5a885fe308f9 = L.marker(\n                [40.727924387874644, -3.781408384468865],\n                {}\n            ).addTo(map_33b438282c15a201aae875c19fda36d7);\n        \n    \n            var marker_efb579e7bb65f2802ecfc4fb392896bc = L.marker(\n                [43.01009091777951, 23.23397235157129],\n                {}\n            ).addTo(map_33b438282c15a201aae875c19fda36d7);\n        \n    \n            var poly_line_df53ee730daed5252c62589be1c68172 = L.polyline(\n                [[48.20817, 16.37382], [46.987536362460084, 7.427499610340133], [41.86933058455828, 12.662484881620202], [48.20817, 16.37382]],\n                {&quot;bubblingMouseEvents&quot;: true, &quot;color&quot;: &quot;#CA05B6&quot;, &quot;dashArray&quot;: null, &quot;dashOffset&quot;: null, &quot;fill&quot;: false, &quot;fillColor&quot;: &quot;#CA05B6&quot;, &quot;fillOpacity&quot;: 0.2, &quot;fillRule&quot;: &quot;evenodd&quot;, &quot;lineCap&quot;: &quot;round&quot;, &quot;lineJoin&quot;: &quot;round&quot;, &quot;noClip&quot;: false, &quot;opacity&quot;: 1.0, &quot;smoothFactor&quot;: 1.0, &quot;stroke&quot;: true, &quot;weight&quot;: 3}\n            ).addTo(map_33b438282c15a201aae875c19fda36d7);\n        \n    \n            var poly_line_3629ded4d883fe5ce95940a9587c3368 = L.polyline(\n                [[48.20817, 16.37382], [50.07589292509622, 14.435404050834023], [52.509346514796945, 5.323617705412682], [48.20817, 16.37382]],\n                {&quot;bubblingMouseEvents&quot;: true, &quot;color&quot;: &quot;#FFE5A6&quot;, &quot;dashArray&quot;: null, &quot;dashOffset&quot;: null, &quot;fill&quot;: false, &quot;fillColor&quot;: &quot;#FFE5A6&quot;, &quot;fillOpacity&quot;: 0.2, &quot;fillRule&quot;: &quot;evenodd&quot;, &quot;lineCap&quot;: &quot;round&quot;, &quot;lineJoin&quot;: &quot;round&quot;, &quot;noClip&quot;: false, &quot;opacity&quot;: 1.0, &quot;smoothFactor&quot;: 1.0, &quot;stroke&quot;: true, &quot;weight&quot;: 3}\n            ).addTo(map_33b438282c15a201aae875c19fda36d7);\n        \n    \n            var poly_line_23ecc08ab466a3f841d70b24157d5463 = L.polyline(\n                [[48.20817, 16.37382], [40.727924387874644, -3.781408384468865], [43.01009091777951, 23.23397235157129], [48.20817, 16.37382]],\n                {&quot;bubblingMouseEvents&quot;: true, &quot;color&quot;: &quot;#3E7807&quot;, &quot;dashArray&quot;: null, &quot;dashOffset&quot;: null, &quot;fill&quot;: false, &quot;fillColor&quot;: &quot;#3E7807&quot;, &quot;fillOpacity&quot;: 0.2, &quot;fillRule&quot;: &quot;evenodd&quot;, &quot;lineCap&quot;: &quot;round&quot;, &quot;lineJoin&quot;: &quot;round&quot;, &quot;noClip&quot;: false, &quot;opacity&quot;: 1.0, &quot;smoothFactor&quot;: 1.0, &quot;stroke&quot;: true, &quot;weight&quot;: 3}\n            ).addTo(map_33b438282c15a201aae875c19fda36d7);\n        \n    \n            var marker_71a289947634e418b3d4e988ddc8b805 = L.marker(\n                [48.20817, 16.37382],\n                {}\n            ).addTo(map_33b438282c15a201aae875c19fda36d7);\n        \n    \n            var icon_aadff50da89d19f6a3b8e446e6d7cb5d = L.AwesomeMarkers.icon(\n                {&quot;extraClasses&quot;: &quot;fa-rotate-0&quot;, &quot;icon&quot;: &quot;stop&quot;, &quot;iconColor&quot;: &quot;white&quot;, &quot;markerColor&quot;: &quot;red&quot;, &quot;prefix&quot;: &quot;glyphicon&quot;}\n            );\n            marker_71a289947634e418b3d4e988ddc8b805.setIcon(icon_aadff50da89d19f6a3b8e446e6d7cb5d);\n        \n    \n            map_33b438282c15a201aae875c19fda36d7.fitBounds(\n                [[52.509346514796945, 23.23397235157129], [40.727924387874644, -3.781408384468865]],\n                {}\n            );\n        \n&lt;/script&gt;\n&lt;/html&gt;\" style=\"position:absolute;width:100%;height:100%;left:0;top:0;border:none !important;\" allowfullscreen webkitallowfullscreen mozallowfullscreen></iframe></div></div>"
     },
     "execution_count": 17,
     "metadata": {},
     "output_type": "execute_result"
    }
   ],
   "source": [
    "VRPPlot(coords=coords,\n",
    "        trails=trails) \\\n",
    "        .show()"
   ],
   "metadata": {
    "collapsed": false
   }
  },
  {
   "cell_type": "markdown",
   "source": [
    "# Geopy"
   ],
   "metadata": {
    "collapsed": false
   }
  },
  {
   "cell_type": "code",
   "execution_count": 3,
   "outputs": [],
   "source": [
    "app = Nominatim(user_agent=\"JournalDev\")"
   ],
   "metadata": {
    "collapsed": false
   }
  },
  {
   "cell_type": "code",
   "execution_count": 4,
   "outputs": [],
   "source": [
    "def _prepare_data(address_list):\n",
    "\n",
    "    df = pd.DataFrame({\"lat\": [],\n",
    "                       \"lon\": []})\n",
    "\n",
    "    for address in address_list:\n",
    "      try:\n",
    "        time.sleep(1)\n",
    "        location = app.geocode(address).raw\n",
    "        df.loc[len(df.index)] = [location['lat'], location['lon']]\n",
    "      except Exception as e:\n",
    "        print(e)\n",
    "\n",
    "    return [(float(df.loc[index, 'lat']), float(df.loc[index, 'lon']))\n",
    "            for index, row in df.iterrows()]"
   ],
   "metadata": {
    "collapsed": false
   }
  },
  {
   "cell_type": "code",
   "execution_count": 5,
   "outputs": [],
   "source": [
    "def _create_data_model(distances):\n",
    "    \"\"\"Stores the data for the problem.\"\"\"\n",
    "    data = {}\n",
    "    data['distance_matrix'] = distances\n",
    "    data['num_vehicles'] = 1\n",
    "    data['depot'] = 0\n",
    "    return data"
   ],
   "metadata": {
    "collapsed": false
   }
  },
  {
   "cell_type": "code",
   "execution_count": 6,
   "outputs": [],
   "source": [
    "def print_solution(manager, routing, solution):\n",
    "    \"\"\"Prints solution on console.\"\"\"\n",
    "    print('Objective: {} km'.format(solution.ObjectiveValue()))\n",
    "    index = routing.Start(0)\n",
    "    plan_output = 'Route for vehicle 0:\\n'\n",
    "    route_distance = 0\n",
    "    while not routing.IsEnd(index):\n",
    "        plan_output += ' {} ->'.format(manager.IndexToNode(index))\n",
    "        previous_index = index\n",
    "        index = solution.Value(routing.NextVar(index))\n",
    "        route_distance += routing.GetArcCostForVehicle(previous_index, index, 0)\n",
    "    plan_output += ' {}\\n'.format(manager.IndexToNode(index))\n",
    "    print(plan_output)\n",
    "    plan_output += 'Route distance: {}km\\n'.format(route_distance)"
   ],
   "metadata": {
    "collapsed": false
   }
  },
  {
   "cell_type": "code",
   "execution_count": 7,
   "outputs": [],
   "source": [
    "def return_solution(manager, routing, solution):\n",
    "    index = routing.Start(0)\n",
    "    output = []\n",
    "    while not routing.IsEnd(index):\n",
    "        output.append(manager.IndexToNode(index))\n",
    "        previous_index = index\n",
    "        index = solution.Value(routing.NextVar(index))\n",
    "    output.append(manager.IndexToNode(index))\n",
    "    return output"
   ],
   "metadata": {
    "collapsed": false
   }
  },
  {
   "cell_type": "code",
   "execution_count": 8,
   "outputs": [],
   "source": [
    "def perform_TSP(data, manager, routing):\n",
    "    def distance_callback(from_index, to_index):\n",
    "        \"\"\"Returns the distance between the two nodes.\"\"\"\n",
    "        # Convert from routing variable Index to distance matrix NodeIndex.\n",
    "        from_node = manager.IndexToNode(from_index)\n",
    "        to_node = manager.IndexToNode(to_index)\n",
    "        return data['distance_matrix'][from_node][to_node]\n",
    "\n",
    "    transit_callback_index = routing.RegisterTransitCallback(distance_callback)\n",
    "\n",
    "    # Define cost of each arc.\n",
    "    routing.SetArcCostEvaluatorOfAllVehicles(transit_callback_index)\n",
    "\n",
    "    # Setting first solution heuristic.\n",
    "    search_parameters = pywrapcp.DefaultRoutingSearchParameters()\n",
    "    search_parameters.first_solution_strategy = (\n",
    "        routing_enums_pb2.FirstSolutionStrategy.PATH_CHEAPEST_ARC)\n",
    "\n",
    "    # Solve the problem.\n",
    "    solution = routing.SolveWithParameters(search_parameters)\n",
    "\n",
    "    # Return solution or print solution on console\n",
    "    if solution:\n",
    "        return solution\n"
   ],
   "metadata": {
    "collapsed": false
   }
  },
  {
   "cell_type": "markdown",
   "source": [
    "# Zamki w Polsce"
   ],
   "metadata": {
    "collapsed": false
   }
  },
  {
   "cell_type": "code",
   "execution_count": 9,
   "outputs": [],
   "source": [
    "address_list = ['Wawel Castle in Krakow, Poland',\n",
    "                'Malbork Castle, Poland',\n",
    "                'Warsaw Royal Castle, Poland',\n",
    "                'Książ Castle, Poland',\n",
    "                'Czocha Castle, Poland',\n",
    "                'Niedzica Castle, Poland']\n",
    "\n",
    "locations = _prepare_data(address_list=address_list)\n",
    "distances = [[int(geodesic(a,b).km) for a in locations]\n",
    "                          for b in locations]\n",
    "\n",
    "data = _create_data_model(distances=distances)\n",
    "\n",
    "# Create the routing index manager.\n",
    "manager = pywrapcp.RoutingIndexManager(len(data['distance_matrix']),\n",
    "                                       data['num_vehicles'], data['depot'])\n",
    "# Create Routing Model.\n",
    "routing = pywrapcp.RoutingModel(manager)\n",
    "\n",
    "solution = perform_TSP(data=data, manager=manager, routing=routing)"
   ],
   "metadata": {
    "collapsed": false
   }
  },
  {
   "cell_type": "code",
   "execution_count": 10,
   "outputs": [
    {
     "name": "stdout",
     "output_type": "stream",
     "text": [
      "Objective: 1388 km\n",
      "Route for vehicle 0:\n",
      " 0 -> 5 -> 3 -> 4 -> 1 -> 2 -> 0\n",
      "\n"
     ]
    }
   ],
   "source": [
    "print_solution(manager=manager, routing=routing, solution=solution)"
   ],
   "metadata": {
    "collapsed": false
   }
  },
  {
   "cell_type": "code",
   "execution_count": 11,
   "outputs": [
    {
     "data": {
      "text/plain": "<folium.folium.Map at 0x216853d7cd0>",
      "text/html": "<div style=\"width:100%;\"><div style=\"position:relative;width:100%;height:0;padding-bottom:60%;\"><span style=\"color:#565656\">Make this Notebook Trusted to load map: File -> Trust Notebook</span><iframe srcdoc=\"&lt;!DOCTYPE html&gt;\n&lt;html&gt;\n&lt;head&gt;\n    \n    &lt;meta http-equiv=&quot;content-type&quot; content=&quot;text/html; charset=UTF-8&quot; /&gt;\n    \n        &lt;script&gt;\n            L_NO_TOUCH = false;\n            L_DISABLE_3D = false;\n        &lt;/script&gt;\n    \n    &lt;style&gt;html, body {width: 100%;height: 100%;margin: 0;padding: 0;}&lt;/style&gt;\n    &lt;style&gt;#map {position:absolute;top:0;bottom:0;right:0;left:0;}&lt;/style&gt;\n    &lt;script src=&quot;https://cdn.jsdelivr.net/npm/leaflet@1.9.3/dist/leaflet.js&quot;&gt;&lt;/script&gt;\n    &lt;script src=&quot;https://code.jquery.com/jquery-1.12.4.min.js&quot;&gt;&lt;/script&gt;\n    &lt;script src=&quot;https://cdn.jsdelivr.net/npm/bootstrap@5.2.2/dist/js/bootstrap.bundle.min.js&quot;&gt;&lt;/script&gt;\n    &lt;script src=&quot;https://cdnjs.cloudflare.com/ajax/libs/Leaflet.awesome-markers/2.0.2/leaflet.awesome-markers.js&quot;&gt;&lt;/script&gt;\n    &lt;link rel=&quot;stylesheet&quot; href=&quot;https://cdn.jsdelivr.net/npm/leaflet@1.9.3/dist/leaflet.css&quot;/&gt;\n    &lt;link rel=&quot;stylesheet&quot; href=&quot;https://cdn.jsdelivr.net/npm/bootstrap@5.2.2/dist/css/bootstrap.min.css&quot;/&gt;\n    &lt;link rel=&quot;stylesheet&quot; href=&quot;https://netdna.bootstrapcdn.com/bootstrap/3.0.0/css/bootstrap.min.css&quot;/&gt;\n    &lt;link rel=&quot;stylesheet&quot; href=&quot;https://cdn.jsdelivr.net/npm/@fortawesome/fontawesome-free@6.2.0/css/all.min.css&quot;/&gt;\n    &lt;link rel=&quot;stylesheet&quot; href=&quot;https://cdnjs.cloudflare.com/ajax/libs/Leaflet.awesome-markers/2.0.2/leaflet.awesome-markers.css&quot;/&gt;\n    &lt;link rel=&quot;stylesheet&quot; href=&quot;https://cdn.jsdelivr.net/gh/python-visualization/folium/folium/templates/leaflet.awesome.rotate.min.css&quot;/&gt;\n    \n            &lt;meta name=&quot;viewport&quot; content=&quot;width=device-width,\n                initial-scale=1.0, maximum-scale=1.0, user-scalable=no&quot; /&gt;\n            &lt;style&gt;\n                #map_fe3218e474d8ee40d4447eaf3cb5b018 {\n                    position: relative;\n                    width: 100.0%;\n                    height: 100.0%;\n                    left: 0.0%;\n                    top: 0.0%;\n                }\n                .leaflet-container { font-size: 1rem; }\n            &lt;/style&gt;\n        \n&lt;/head&gt;\n&lt;body&gt;\n    \n    \n            &lt;div class=&quot;folium-map&quot; id=&quot;map_fe3218e474d8ee40d4447eaf3cb5b018&quot; &gt;&lt;/div&gt;\n        \n&lt;/body&gt;\n&lt;script&gt;\n    \n    \n            var map_fe3218e474d8ee40d4447eaf3cb5b018 = L.map(\n                &quot;map_fe3218e474d8ee40d4447eaf3cb5b018&quot;,\n                {\n                    center: [51.10200534285715, 18.834426105580636],\n                    crs: L.CRS.EPSG3857,\n                    zoom: 10,\n                    zoomControl: true,\n                    preferCanvas: false,\n                }\n            );\n\n            \n\n        \n    \n            var tile_layer_a4c428f2267d47e34867829e69372f5f = L.tileLayer(\n                &quot;https://stamen-tiles-{s}.a.ssl.fastly.net/terrain/{z}/{x}/{y}.jpg&quot;,\n                {&quot;attribution&quot;: &quot;Map tiles by \\u003ca target=\\&quot;_blank\\&quot; href=\\&quot;http://stamen.com\\&quot;\\u003eStamen Design\\u003c/a\\u003e, under \\u003ca target=\\&quot;_blank\\&quot; href=\\&quot;http://creativecommons.org/licenses/by/3.0\\&quot;\\u003eCC BY 3.0\\u003c/a\\u003e. Data by \\u0026copy; \\u003ca target=\\&quot;_blank\\&quot; href=\\&quot;http://openstreetmap.org\\&quot;\\u003eOpenStreetMap\\u003c/a\\u003e, under \\u003ca target=\\&quot;_blank\\&quot; href=\\&quot;http://creativecommons.org/licenses/by-sa/3.0\\&quot;\\u003eCC BY SA\\u003c/a\\u003e.&quot;, &quot;detectRetina&quot;: false, &quot;maxNativeZoom&quot;: 18, &quot;maxZoom&quot;: 18, &quot;minZoom&quot;: 0, &quot;noWrap&quot;: false, &quot;opacity&quot;: 1, &quot;subdomains&quot;: &quot;abc&quot;, &quot;tms&quot;: false}\n            ).addTo(map_fe3218e474d8ee40d4447eaf3cb5b018);\n        \n    \n            var marker_eb16b3f7e5f8a7c6589af9290ef1533c = L.marker(\n                [50.0654581, 19.94145102617512],\n                {}\n            ).addTo(map_fe3218e474d8ee40d4447eaf3cb5b018);\n        \n    \n            var icon_20f674f23febe8dea36d6f204d183eb5 = L.AwesomeMarkers.icon(\n                {&quot;extraClasses&quot;: &quot;fa-rotate-0&quot;, &quot;icon&quot;: &quot;play&quot;, &quot;iconColor&quot;: &quot;white&quot;, &quot;markerColor&quot;: &quot;green&quot;, &quot;prefix&quot;: &quot;glyphicon&quot;}\n            );\n            marker_eb16b3f7e5f8a7c6589af9290ef1533c.setIcon(icon_20f674f23febe8dea36d6f204d183eb5);\n        \n    \n            var marker_18a333ae7b198579b79b788e0a32c2e3 = L.marker(\n                [54.03991715, 19.027701732138958],\n                {}\n            ).addTo(map_fe3218e474d8ee40d4447eaf3cb5b018);\n        \n    \n            var marker_0354ffe9ba6822547a52181f97543beb = L.marker(\n                [52.24790025, 21.01528019760977],\n                {}\n            ).addTo(map_fe3218e474d8ee40d4447eaf3cb5b018);\n        \n    \n            var marker_6310f11f99193980b47b5621097617f7 = L.marker(\n                [50.8422013, 16.291835441128377],\n                {}\n            ).addTo(map_fe3218e474d8ee40d4447eaf3cb5b018);\n        \n    \n            var marker_f049b6ebbbdce714e66fdb23298373be = L.marker(\n                [51.0305688, 15.3036021],\n                {}\n            ).addTo(map_fe3218e474d8ee40d4447eaf3cb5b018);\n        \n    \n            var marker_c4eb868c61982f6fea48b08357db13d3 = L.marker(\n                [49.4225337, 20.319661215837108],\n                {}\n            ).addTo(map_fe3218e474d8ee40d4447eaf3cb5b018);\n        \n    \n            var poly_line_64ea08492146d483f474c27f236f2d7a = L.polyline(\n                [[50.0654581, 19.94145102617512], [49.4225337, 20.319661215837108], [50.8422013, 16.291835441128377], [51.0305688, 15.3036021], [54.03991715, 19.027701732138958], [52.24790025, 21.01528019760977], [50.0654581, 19.94145102617512]],\n                {&quot;bubblingMouseEvents&quot;: true, &quot;color&quot;: &quot;#DB5105&quot;, &quot;dashArray&quot;: null, &quot;dashOffset&quot;: null, &quot;fill&quot;: false, &quot;fillColor&quot;: &quot;#DB5105&quot;, &quot;fillOpacity&quot;: 0.2, &quot;fillRule&quot;: &quot;evenodd&quot;, &quot;lineCap&quot;: &quot;round&quot;, &quot;lineJoin&quot;: &quot;round&quot;, &quot;noClip&quot;: false, &quot;opacity&quot;: 1.0, &quot;smoothFactor&quot;: 1.0, &quot;stroke&quot;: true, &quot;weight&quot;: 3}\n            ).addTo(map_fe3218e474d8ee40d4447eaf3cb5b018);\n        \n    \n            var marker_aefd2bbfeccbf9572211bf7f1433d894 = L.marker(\n                [50.0654581, 19.94145102617512],\n                {}\n            ).addTo(map_fe3218e474d8ee40d4447eaf3cb5b018);\n        \n    \n            var icon_9aa94defc3ddb34b9d8fe501dba297ef = L.AwesomeMarkers.icon(\n                {&quot;extraClasses&quot;: &quot;fa-rotate-0&quot;, &quot;icon&quot;: &quot;stop&quot;, &quot;iconColor&quot;: &quot;white&quot;, &quot;markerColor&quot;: &quot;red&quot;, &quot;prefix&quot;: &quot;glyphicon&quot;}\n            );\n            marker_aefd2bbfeccbf9572211bf7f1433d894.setIcon(icon_9aa94defc3ddb34b9d8fe501dba297ef);\n        \n    \n            map_fe3218e474d8ee40d4447eaf3cb5b018.fitBounds(\n                [[54.03991715, 21.01528019760977], [49.4225337, 15.3036021]],\n                {}\n            );\n        \n&lt;/script&gt;\n&lt;/html&gt;\" style=\"position:absolute;width:100%;height:100%;left:0;top:0;border:none !important;\" allowfullscreen webkitallowfullscreen mozallowfullscreen></iframe></div></div>"
     },
     "execution_count": 11,
     "metadata": {},
     "output_type": "execute_result"
    }
   ],
   "source": [
    "locations.append(locations[0])\n",
    "route = return_solution(manager=manager, routing=routing, solution=solution)\n",
    "VRPPlot(coords=locations,\n",
    "        trails=[route]) \\\n",
    "        .show()"
   ],
   "metadata": {
    "collapsed": false
   }
  },
  {
   "cell_type": "markdown",
   "source": [
    "# Europejskie stolice"
   ],
   "metadata": {
    "collapsed": false
   }
  },
  {
   "cell_type": "code",
   "execution_count": 26,
   "outputs": [],
   "source": [
    "capitals = ['Zurich',\n",
    "            'Vienna',\n",
    "            'Rome',\n",
    "            'Prague',\n",
    "            'Amsterdam',\n",
    "            'Madrid',\n",
    "            'Sofia, Bulgaria']\n",
    "\n",
    "locations = _prepare_data(address_list=capitals)\n",
    "distances = [[int(geodesic(a,b).km) for a in locations]\n",
    "                          for b in locations]\n",
    "\n",
    "data = _create_data_model(distances=distances)\n",
    "\n",
    "# Create the routing index manager.\n",
    "manager = pywrapcp.RoutingIndexManager(len(data['distance_matrix']),\n",
    "                                       data['num_vehicles'], data['depot'])\n",
    "# Create Routing Model.\n",
    "routing = pywrapcp.RoutingModel(manager)\n",
    "\n",
    "solution = perform_TSP(data=data, manager=manager, routing=routing)"
   ],
   "metadata": {
    "collapsed": false
   }
  },
  {
   "cell_type": "code",
   "execution_count": 27,
   "outputs": [
    {
     "name": "stdout",
     "output_type": "stream",
     "text": [
      "Objective: 5906 km\n",
      "Route for vehicle 0:\n",
      " 0 -> 5 -> 2 -> 6 -> 1 -> 3 -> 4 -> 0\n",
      "\n"
     ]
    }
   ],
   "source": [
    "print_solution(manager=manager, routing=routing, solution=solution)"
   ],
   "metadata": {
    "collapsed": false
   }
  },
  {
   "cell_type": "code",
   "execution_count": 28,
   "outputs": [
    {
     "data": {
      "text/plain": "<folium.folium.Map at 0x21685690520>",
      "text/html": "<div style=\"width:100%;\"><div style=\"position:relative;width:100%;height:0;padding-bottom:60%;\"><span style=\"color:#565656\">Make this Notebook Trusted to load map: File -> Trust Notebook</span><iframe srcdoc=\"&lt;!DOCTYPE html&gt;\n&lt;html&gt;\n&lt;head&gt;\n    \n    &lt;meta http-equiv=&quot;content-type&quot; content=&quot;text/html; charset=UTF-8&quot; /&gt;\n    \n        &lt;script&gt;\n            L_NO_TOUCH = false;\n            L_DISABLE_3D = false;\n        &lt;/script&gt;\n    \n    &lt;style&gt;html, body {width: 100%;height: 100%;margin: 0;padding: 0;}&lt;/style&gt;\n    &lt;style&gt;#map {position:absolute;top:0;bottom:0;right:0;left:0;}&lt;/style&gt;\n    &lt;script src=&quot;https://cdn.jsdelivr.net/npm/leaflet@1.9.3/dist/leaflet.js&quot;&gt;&lt;/script&gt;\n    &lt;script src=&quot;https://code.jquery.com/jquery-1.12.4.min.js&quot;&gt;&lt;/script&gt;\n    &lt;script src=&quot;https://cdn.jsdelivr.net/npm/bootstrap@5.2.2/dist/js/bootstrap.bundle.min.js&quot;&gt;&lt;/script&gt;\n    &lt;script src=&quot;https://cdnjs.cloudflare.com/ajax/libs/Leaflet.awesome-markers/2.0.2/leaflet.awesome-markers.js&quot;&gt;&lt;/script&gt;\n    &lt;link rel=&quot;stylesheet&quot; href=&quot;https://cdn.jsdelivr.net/npm/leaflet@1.9.3/dist/leaflet.css&quot;/&gt;\n    &lt;link rel=&quot;stylesheet&quot; href=&quot;https://cdn.jsdelivr.net/npm/bootstrap@5.2.2/dist/css/bootstrap.min.css&quot;/&gt;\n    &lt;link rel=&quot;stylesheet&quot; href=&quot;https://netdna.bootstrapcdn.com/bootstrap/3.0.0/css/bootstrap.min.css&quot;/&gt;\n    &lt;link rel=&quot;stylesheet&quot; href=&quot;https://cdn.jsdelivr.net/npm/@fortawesome/fontawesome-free@6.2.0/css/all.min.css&quot;/&gt;\n    &lt;link rel=&quot;stylesheet&quot; href=&quot;https://cdnjs.cloudflare.com/ajax/libs/Leaflet.awesome-markers/2.0.2/leaflet.awesome-markers.css&quot;/&gt;\n    &lt;link rel=&quot;stylesheet&quot; href=&quot;https://cdn.jsdelivr.net/gh/python-visualization/folium/folium/templates/leaflet.awesome.rotate.min.css&quot;/&gt;\n    \n            &lt;meta name=&quot;viewport&quot; content=&quot;width=device-width,\n                initial-scale=1.0, maximum-scale=1.0, user-scalable=no&quot; /&gt;\n            &lt;style&gt;\n                #map_d28e8d690a7413bcf9b81ee7d2ba5700 {\n                    position: relative;\n                    width: 100.0%;\n                    height: 100.0%;\n                    left: 0.0%;\n                    top: 0.0%;\n                }\n                .leaflet-container { font-size: 1rem; }\n            &lt;/style&gt;\n        \n&lt;/head&gt;\n&lt;body&gt;\n    \n    \n            &lt;div class=&quot;folium-map&quot; id=&quot;map_d28e8d690a7413bcf9b81ee7d2ba5700&quot; &gt;&lt;/div&gt;\n        \n&lt;/body&gt;\n&lt;script&gt;\n    \n    \n            var map_d28e8d690a7413bcf9b81ee7d2ba5700 = L.map(\n                &quot;map_d28e8d690a7413bcf9b81ee7d2ba5700&quot;,\n                {\n                    center: [46.303190537499994, 10.608672625],\n                    crs: L.CRS.EPSG3857,\n                    zoom: 10,\n                    zoomControl: true,\n                    preferCanvas: false,\n                }\n            );\n\n            \n\n        \n    \n            var tile_layer_37137bc49f3e81049f855cd38478d3c4 = L.tileLayer(\n                &quot;https://stamen-tiles-{s}.a.ssl.fastly.net/terrain/{z}/{x}/{y}.jpg&quot;,\n                {&quot;attribution&quot;: &quot;Map tiles by \\u003ca target=\\&quot;_blank\\&quot; href=\\&quot;http://stamen.com\\&quot;\\u003eStamen Design\\u003c/a\\u003e, under \\u003ca target=\\&quot;_blank\\&quot; href=\\&quot;http://creativecommons.org/licenses/by/3.0\\&quot;\\u003eCC BY 3.0\\u003c/a\\u003e. Data by \\u0026copy; \\u003ca target=\\&quot;_blank\\&quot; href=\\&quot;http://openstreetmap.org\\&quot;\\u003eOpenStreetMap\\u003c/a\\u003e, under \\u003ca target=\\&quot;_blank\\&quot; href=\\&quot;http://creativecommons.org/licenses/by-sa/3.0\\&quot;\\u003eCC BY SA\\u003c/a\\u003e.&quot;, &quot;detectRetina&quot;: false, &quot;maxNativeZoom&quot;: 18, &quot;maxZoom&quot;: 18, &quot;minZoom&quot;: 0, &quot;noWrap&quot;: false, &quot;opacity&quot;: 1, &quot;subdomains&quot;: &quot;abc&quot;, &quot;tms&quot;: false}\n            ).addTo(map_d28e8d690a7413bcf9b81ee7d2ba5700);\n        \n    \n            var marker_49039f0f8d41eafb1b902944d6a311d0 = L.marker(\n                [47.3744489, 8.5410422],\n                {}\n            ).addTo(map_d28e8d690a7413bcf9b81ee7d2ba5700);\n        \n    \n            var icon_7640189b1cac2a06be27d0f116f2cb4d = L.AwesomeMarkers.icon(\n                {&quot;extraClasses&quot;: &quot;fa-rotate-0&quot;, &quot;icon&quot;: &quot;play&quot;, &quot;iconColor&quot;: &quot;white&quot;, &quot;markerColor&quot;: &quot;green&quot;, &quot;prefix&quot;: &quot;glyphicon&quot;}\n            );\n            marker_49039f0f8d41eafb1b902944d6a311d0.setIcon(icon_7640189b1cac2a06be27d0f116f2cb4d);\n        \n    \n            var marker_2ea0f01c40e0441da2ddd2c6e75c2912 = L.marker(\n                [48.2083537, 16.3725042],\n                {}\n            ).addTo(map_d28e8d690a7413bcf9b81ee7d2ba5700);\n        \n    \n            var marker_bd99753e4ea92b2a29a88c98bbc376a5 = L.marker(\n                [41.8933203, 12.4829321],\n                {}\n            ).addTo(map_d28e8d690a7413bcf9b81ee7d2ba5700);\n        \n    \n            var marker_76071959fe24122f07e5b2f99cef6bb3 = L.marker(\n                [50.0874654, 14.4212535],\n                {}\n            ).addTo(map_d28e8d690a7413bcf9b81ee7d2ba5700);\n        \n    \n            var marker_853a2626747708530590b815e0ac016d = L.marker(\n                [52.3730796, 4.8924534],\n                {}\n            ).addTo(map_d28e8d690a7413bcf9b81ee7d2ba5700);\n        \n    \n            var marker_78863fe82e422d696f0a16b0914d9215 = L.marker(\n                [40.4167047, -3.7035825],\n                {}\n            ).addTo(map_d28e8d690a7413bcf9b81ee7d2ba5700);\n        \n    \n            var marker_f9a4b66182fca8f34fce234979b908e8 = L.marker(\n                [42.6977028, 23.3217359],\n                {}\n            ).addTo(map_d28e8d690a7413bcf9b81ee7d2ba5700);\n        \n    \n            var poly_line_434a02d6473a9dd32a5361b6e886264e = L.polyline(\n                [[47.3744489, 8.5410422], [40.4167047, -3.7035825], [41.8933203, 12.4829321], [42.6977028, 23.3217359], [48.2083537, 16.3725042], [50.0874654, 14.4212535], [52.3730796, 4.8924534], [47.3744489, 8.5410422]],\n                {&quot;bubblingMouseEvents&quot;: true, &quot;color&quot;: &quot;#C143CD&quot;, &quot;dashArray&quot;: null, &quot;dashOffset&quot;: null, &quot;fill&quot;: false, &quot;fillColor&quot;: &quot;#C143CD&quot;, &quot;fillOpacity&quot;: 0.2, &quot;fillRule&quot;: &quot;evenodd&quot;, &quot;lineCap&quot;: &quot;round&quot;, &quot;lineJoin&quot;: &quot;round&quot;, &quot;noClip&quot;: false, &quot;opacity&quot;: 1.0, &quot;smoothFactor&quot;: 1.0, &quot;stroke&quot;: true, &quot;weight&quot;: 3}\n            ).addTo(map_d28e8d690a7413bcf9b81ee7d2ba5700);\n        \n    \n            var marker_c406aaef6c78a2359e55d6640b884a06 = L.marker(\n                [47.3744489, 8.5410422],\n                {}\n            ).addTo(map_d28e8d690a7413bcf9b81ee7d2ba5700);\n        \n    \n            var icon_9f85d0f7dba583e23607c77706b1db16 = L.AwesomeMarkers.icon(\n                {&quot;extraClasses&quot;: &quot;fa-rotate-0&quot;, &quot;icon&quot;: &quot;stop&quot;, &quot;iconColor&quot;: &quot;white&quot;, &quot;markerColor&quot;: &quot;red&quot;, &quot;prefix&quot;: &quot;glyphicon&quot;}\n            );\n            marker_c406aaef6c78a2359e55d6640b884a06.setIcon(icon_9f85d0f7dba583e23607c77706b1db16);\n        \n    \n            map_d28e8d690a7413bcf9b81ee7d2ba5700.fitBounds(\n                [[52.3730796, 23.3217359], [40.4167047, -3.7035825]],\n                {}\n            );\n        \n&lt;/script&gt;\n&lt;/html&gt;\" style=\"position:absolute;width:100%;height:100%;left:0;top:0;border:none !important;\" allowfullscreen webkitallowfullscreen mozallowfullscreen></iframe></div></div>"
     },
     "execution_count": 28,
     "metadata": {},
     "output_type": "execute_result"
    }
   ],
   "source": [
    "locations.append(locations[0])\n",
    "route = return_solution(manager=manager, routing=routing, solution=solution)\n",
    "VRPPlot(coords=locations,\n",
    "        trails=[route]) \\\n",
    "        .show()"
   ],
   "metadata": {
    "collapsed": false
   }
  }
 ],
 "metadata": {
  "kernelspec": {
   "display_name": "Python 3",
   "language": "python",
   "name": "python3"
  },
  "language_info": {
   "codemirror_mode": {
    "name": "ipython",
    "version": 2
   },
   "file_extension": ".py",
   "mimetype": "text/x-python",
   "name": "python",
   "nbconvert_exporter": "python",
   "pygments_lexer": "ipython2",
   "version": "2.7.6"
  }
 },
 "nbformat": 4,
 "nbformat_minor": 0
}
