{
 "cells": [
  {
   "cell_type": "code",
   "execution_count": 1,
   "id": "d7be5025",
   "metadata": {},
   "outputs": [],
   "source": [
    "import matplotlib.pyplot as plt\n",
    "import random\n",
    "\n",
    "\n",
    "from or_tools import algorytm_or_tools"
   ]
  },
  {
   "cell_type": "code",
   "execution_count": 2,
   "id": "71f6df37",
   "metadata": {},
   "outputs": [],
   "source": [
    "N = 100\n",
    "coords_x = random.sample(list(range(0, N)), 45)\n",
    "coords_y = random.sample(list(range(0, N)), 45)\n",
    "locations = [(coords_x[i], coords_y[i]) for i in range(len(coords_x))]\n",
    "num_vehicles = 3"
   ]
  },
  {
   "cell_type": "code",
   "execution_count": 3,
   "id": "53af4937",
   "metadata": {},
   "outputs": [
    {
     "ename": "NameError",
     "evalue": "name 'wsp_punktów_do_odwiedzenia' is not defined",
     "output_type": "error",
     "traceback": [
      "\u001b[1;31m---------------------------------------------------------------------------\u001b[0m",
      "\u001b[1;31mNameError\u001b[0m                                 Traceback (most recent call last)",
      "Cell \u001b[1;32mIn[3], line 1\u001b[0m\n\u001b[1;32m----> 1\u001b[0m X \u001b[38;5;241m=\u001b[39m \u001b[43malgorytm_or_tools\u001b[49m\u001b[43m(\u001b[49m\u001b[43mnum_vehicles\u001b[49m\u001b[43m,\u001b[49m\u001b[43m \u001b[49m\u001b[43mlocations\u001b[49m\u001b[43m[\u001b[49m\u001b[38;5;241;43m0\u001b[39;49m\u001b[43m]\u001b[49m\u001b[43m,\u001b[49m\u001b[43m \u001b[49m\u001b[43mlocations\u001b[49m\u001b[43m[\u001b[49m\u001b[38;5;241;43m1\u001b[39;49m\u001b[43m:\u001b[49m\u001b[43m]\u001b[49m\u001b[43m)\u001b[49m\n",
      "File \u001b[1;32m~\\Documents\\GitHub\\Tasks\\VRP\\or_tools.py:25\u001b[0m, in \u001b[0;36malgorytm_or_tools\u001b[1;34m(liczba_kurierow, wsp_punktu_startowego, wsp_punktow_do_odwiedzenia)\u001b[0m\n\u001b[0;32m     21\u001b[0m routing \u001b[38;5;241m=\u001b[39m pywrapcp\u001b[38;5;241m.\u001b[39mRoutingModel(manager)\n\u001b[0;32m     23\u001b[0m solution \u001b[38;5;241m=\u001b[39m perform_TSP(data\u001b[38;5;241m=\u001b[39mdata, manager\u001b[38;5;241m=\u001b[39mmanager, routing\u001b[38;5;241m=\u001b[39mrouting)\n\u001b[1;32m---> 25\u001b[0m \u001b[38;5;28;01mreturn\u001b[39;00m \u001b[43mreturn_solution\u001b[49m\u001b[43m(\u001b[49m\u001b[43mdata\u001b[49m\u001b[43m,\u001b[49m\u001b[43m \u001b[49m\u001b[43mmanager\u001b[49m\u001b[43m,\u001b[49m\u001b[43m \u001b[49m\u001b[43mrouting\u001b[49m\u001b[43m,\u001b[49m\u001b[43m \u001b[49m\u001b[43msolution\u001b[49m\u001b[43m)\u001b[49m\n",
      "File \u001b[1;32m~\\Documents\\GitHub\\Tasks\\VRP\\or_tools.py:88\u001b[0m, in \u001b[0;36mreturn_solution\u001b[1;34m(data, manager, routing, solution)\u001b[0m\n\u001b[0;32m     86\u001b[0m route_distance \u001b[38;5;241m=\u001b[39m \u001b[38;5;241m0\u001b[39m\n\u001b[0;32m     87\u001b[0m \u001b[38;5;28;01mwhile\u001b[39;00m \u001b[38;5;129;01mnot\u001b[39;00m routing\u001b[38;5;241m.\u001b[39mIsEnd(index):\n\u001b[1;32m---> 88\u001b[0m     single_output\u001b[38;5;241m.\u001b[39mappend(\u001b[43mwsp_punktów_do_odwiedzenia\u001b[49m[manager\u001b[38;5;241m.\u001b[39mIndexToNode(index)])\n\u001b[0;32m     89\u001b[0m     previous_index \u001b[38;5;241m=\u001b[39m index\n\u001b[0;32m     90\u001b[0m     index \u001b[38;5;241m=\u001b[39m solution\u001b[38;5;241m.\u001b[39mValue(routing\u001b[38;5;241m.\u001b[39mNextVar(index))\n",
      "\u001b[1;31mNameError\u001b[0m: name 'wsp_punktów_do_odwiedzenia' is not defined"
     ]
    }
   ],
   "source": [
    "X = algorytm_or_tools(num_vehicles, locations[0], locations[1:])"
   ]
  },
  {
   "cell_type": "code",
   "execution_count": null,
   "id": "41cd620d",
   "metadata": {},
   "outputs": [],
   "source": [
    "plt.figure(figsize=(9, 9))\n",
    "for route in X:\n",
    "    coords_route_x = [node[0] for node in route]\n",
    "    coords_route_y = [node[1] for node in route]\n",
    "    plt.plot(coords_route_x, coords_route_y, 'v-', markersize=10)\n",
    "plt.plot(coords_x[0], coords_y[0], '>', color='black', markersize=20)\n",
    "#plt.legend(distances, prop={'size': 18})\n",
    "#plt.title(f'Liczba pojazdów: {num_vehicles}, Liczba punktów: {len(locations)}', fontsize=22)\n",
    "plt.yticks(fontsize=20)\n",
    "#plt.xlabel(f'Dystans całkowity: {total_distance}km', fontsize=20)\n",
    "plt.xticks(fontsize=20)\n",
    "plt.grid()"
   ]
  },
  {
   "cell_type": "code",
   "execution_count": null,
   "id": "d2e8e0c3",
   "metadata": {},
   "outputs": [],
   "source": []
  }
 ],
 "metadata": {
  "kernelspec": {
   "display_name": "Python 3 (ipykernel)",
   "language": "python",
   "name": "python3"
  },
  "language_info": {
   "codemirror_mode": {
    "name": "ipython",
    "version": 3
   },
   "file_extension": ".py",
   "mimetype": "text/x-python",
   "name": "python",
   "nbconvert_exporter": "python",
   "pygments_lexer": "ipython3",
   "version": "3.11.1"
  }
 },
 "nbformat": 4,
 "nbformat_minor": 5
}
